{
 "cells": [
  {
   "cell_type": "code",
   "execution_count": 12,
   "metadata": {},
   "outputs": [
    {
     "ename": "Exception",
     "evalue": " [!] No espeak backend found. Install espeak-ng or espeak to your system.",
     "output_type": "error",
     "traceback": [
      "\u001b[1;31m---------------------------------------------------------------------------\u001b[0m",
      "\u001b[1;31mException\u001b[0m                                 Traceback (most recent call last)",
      "Cell \u001b[1;32mIn[12], line 25\u001b[0m\n\u001b[0;32m     22\u001b[0m config \u001b[38;5;241m=\u001b[39m VitsConfig()\n\u001b[0;32m     23\u001b[0m config\u001b[38;5;241m.\u001b[39mload_json(config_path)\n\u001b[1;32m---> 25\u001b[0m tokenizer, config \u001b[38;5;241m=\u001b[39m \u001b[43mTTSTokenizer\u001b[49m\u001b[38;5;241;43m.\u001b[39;49m\u001b[43minit_from_config\u001b[49m\u001b[43m(\u001b[49m\u001b[43mconfig\u001b[49m\u001b[43m)\u001b[49m\n\u001b[0;32m     27\u001b[0m model \u001b[38;5;241m=\u001b[39m Vits(config\u001b[38;5;241m=\u001b[39mconfig, tokenizer\u001b[38;5;241m=\u001b[39mtokenizer)\n\u001b[0;32m     29\u001b[0m \u001b[38;5;28;01mif\u001b[39;00m torch\u001b[38;5;241m.\u001b[39mcuda\u001b[38;5;241m.\u001b[39mis_available():\n",
      "File \u001b[1;32mc:\\Users\\Rdgud\\miniconda3\\envs\\coqui\\lib\\site-packages\\TTS\\tts\\utils\\text\\tokenizer.py:198\u001b[0m, in \u001b[0;36mTTSTokenizer.init_from_config\u001b[1;34m(config, characters)\u001b[0m\n\u001b[0;32m    196\u001b[0m phonemizer_kwargs \u001b[38;5;241m=\u001b[39m {\u001b[38;5;124m\"\u001b[39m\u001b[38;5;124mlanguage\u001b[39m\u001b[38;5;124m\"\u001b[39m: config\u001b[38;5;241m.\u001b[39mphoneme_language}\n\u001b[0;32m    197\u001b[0m \u001b[38;5;28;01mif\u001b[39;00m \u001b[38;5;124m\"\u001b[39m\u001b[38;5;124mphonemizer\u001b[39m\u001b[38;5;124m\"\u001b[39m \u001b[38;5;129;01min\u001b[39;00m config \u001b[38;5;129;01mand\u001b[39;00m config\u001b[38;5;241m.\u001b[39mphonemizer:\n\u001b[1;32m--> 198\u001b[0m     phonemizer \u001b[38;5;241m=\u001b[39m get_phonemizer_by_name(config\u001b[38;5;241m.\u001b[39mphonemizer, \u001b[38;5;241m*\u001b[39m\u001b[38;5;241m*\u001b[39mphonemizer_kwargs)\n\u001b[0;32m    199\u001b[0m \u001b[38;5;28;01melse\u001b[39;00m:\n\u001b[0;32m    200\u001b[0m     \u001b[38;5;28;01mtry\u001b[39;00m:\n",
      "File \u001b[1;32mc:\\Users\\Rdgud\\miniconda3\\envs\\coqui\\lib\\site-packages\\TTS\\tts\\utils\\text\\phonemizers\\__init__.py:60\u001b[0m, in \u001b[0;36mget_phonemizer_by_name\u001b[1;34m(name, **kwargs)\u001b[0m\n\u001b[0;32m     50\u001b[0m \u001b[38;5;250m\u001b[39m\u001b[38;5;124;03m\"\"\"Initiate a phonemizer by name\u001b[39;00m\n\u001b[0;32m     51\u001b[0m \n\u001b[0;32m     52\u001b[0m \u001b[38;5;124;03mArgs:\u001b[39;00m\n\u001b[1;32m   (...)\u001b[0m\n\u001b[0;32m     57\u001b[0m \u001b[38;5;124;03m        Extra keyword arguments that should be passed to the phonemizer.\u001b[39;00m\n\u001b[0;32m     58\u001b[0m \u001b[38;5;124;03m\"\"\"\u001b[39;00m\n\u001b[0;32m     59\u001b[0m \u001b[38;5;28;01mif\u001b[39;00m name \u001b[38;5;241m==\u001b[39m \u001b[38;5;124m\"\u001b[39m\u001b[38;5;124mespeak\u001b[39m\u001b[38;5;124m\"\u001b[39m:\n\u001b[1;32m---> 60\u001b[0m     \u001b[38;5;28;01mreturn\u001b[39;00m ESpeak(\u001b[38;5;241m*\u001b[39m\u001b[38;5;241m*\u001b[39mkwargs)\n\u001b[0;32m     61\u001b[0m \u001b[38;5;28;01mif\u001b[39;00m name \u001b[38;5;241m==\u001b[39m \u001b[38;5;124m\"\u001b[39m\u001b[38;5;124mgruut\u001b[39m\u001b[38;5;124m\"\u001b[39m:\n\u001b[0;32m     62\u001b[0m     \u001b[38;5;28;01mreturn\u001b[39;00m Gruut(\u001b[38;5;241m*\u001b[39m\u001b[38;5;241m*\u001b[39mkwargs)\n",
      "File \u001b[1;32mc:\\Users\\Rdgud\\miniconda3\\envs\\coqui\\lib\\site-packages\\TTS\\tts\\utils\\text\\phonemizers\\espeak_wrapper.py:114\u001b[0m, in \u001b[0;36mESpeak.__init__\u001b[1;34m(self, language, backend, punctuations, keep_puncs)\u001b[0m\n\u001b[0;32m    112\u001b[0m \u001b[38;5;28;01mdef\u001b[39;00m \u001b[38;5;21m__init__\u001b[39m(\u001b[38;5;28mself\u001b[39m, language: \u001b[38;5;28mstr\u001b[39m, backend\u001b[38;5;241m=\u001b[39m\u001b[38;5;28;01mNone\u001b[39;00m, punctuations\u001b[38;5;241m=\u001b[39mPunctuation\u001b[38;5;241m.\u001b[39mdefault_puncs(), keep_puncs\u001b[38;5;241m=\u001b[39m\u001b[38;5;28;01mTrue\u001b[39;00m):\n\u001b[0;32m    113\u001b[0m     \u001b[38;5;28;01mif\u001b[39;00m \u001b[38;5;28mself\u001b[39m\u001b[38;5;241m.\u001b[39m_ESPEAK_LIB \u001b[38;5;129;01mis\u001b[39;00m \u001b[38;5;28;01mNone\u001b[39;00m:\n\u001b[1;32m--> 114\u001b[0m         \u001b[38;5;28;01mraise\u001b[39;00m \u001b[38;5;167;01mException\u001b[39;00m(\u001b[38;5;124m\"\u001b[39m\u001b[38;5;124m [!] No espeak backend found. Install espeak-ng or espeak to your system.\u001b[39m\u001b[38;5;124m\"\u001b[39m)\n\u001b[0;32m    115\u001b[0m     \u001b[38;5;28mself\u001b[39m\u001b[38;5;241m.\u001b[39mbackend \u001b[38;5;241m=\u001b[39m \u001b[38;5;28mself\u001b[39m\u001b[38;5;241m.\u001b[39m_ESPEAK_LIB\n\u001b[0;32m    117\u001b[0m     \u001b[38;5;66;03m# band-aid for backwards compatibility\u001b[39;00m\n",
      "\u001b[1;31mException\u001b[0m:  [!] No espeak backend found. Install espeak-ng or espeak to your system."
     ]
    }
   ],
   "source": [
    "import os\n",
    "import torch\n",
    "import numpy as np\n",
    "\n",
    "from TTS.tts.models.vits import Vits\n",
    "from TTS.tts.configs.vits_config import VitsConfig\n",
    "from TTS.tts.utils.text.tokenizer import TTSTokenizer\n",
    "from TTS.utils.audio import AudioProcessor\n",
    "from TTS.tts.utils.synthesis import synthesis\n",
    "import IPython\n",
    "\n",
    "texts_to_report = [\"It took me quite a long time to develop a voice, and now that I have it I'm not going to be silent.\"]\n",
    "\n",
    "checkpoint = 'model_file.pth'\n",
    "speakers_to_synt = ['VCTK_p274', 'VCTK_p232', 'VCTK_p256', 'VCTK_p299']\n",
    "experiment = 'pretrained'\n",
    "\n",
    "output_path = os.path.dirname(os.path.join(os.path.abspath(\"outputs/\"), experiment, \"./outputs.json\"))\n",
    "config_path = os.path.join(output_path, \"config.json\")\n",
    "checkpoint_path = os.path.join(output_path, checkpoint)\n",
    "\n",
    "config = VitsConfig()\n",
    "config.load_json(config_path)\n",
    "\n",
    "tokenizer, config = TTSTokenizer.init_from_config(config)\n",
    "\n",
    "model = Vits(config=config, tokenizer=tokenizer)\n",
    "\n",
    "if torch.cuda.is_available():\n",
    "    model.cuda()\n",
    "\n",
    "checkpoint_data = torch.load(checkpoint_path)\n",
    "model.load_state_dict(checkpoint_data['model'])\n",
    "# model.load_checkpoint(config=config, checkpoint_path=checkpoint_path)\n",
    "\n",
    "def output_audio(wav):\n",
    "    new_wav = np.array(wav)\n",
    "    # multi channel to single channel\n",
    "    if len(new_wav.shape) == 2:\n",
    "        new_wav = new_wav[:, 0]\n",
    "    IPython.display.display(IPython.display.Audio(new_wav, rate=22050))\n",
    "\n",
    "for text_id, temp_txt in enumerate(texts_to_report):\n",
    "    x = tokenizer.text_to_ids(temp_txt)\n",
    "    if torch.cuda.is_available():\n",
    "        output = model.inference(torch.Tensor(x).int().unsqueeze(0).cuda(), aux_input={\"x_lengths\": torch.Tensor([len(x)]).cuda(), \"d_vectors\": None, \"language_ids\": None})\n",
    "    else:\n",
    "        output = model.inference(torch.Tensor(x).int().unsqueeze(0), aux_input={\"x_lengths\": None, \"d_vectors\": None, \"language_ids\": None})\n",
    "    wave_form = output['model_outputs'].cpu()\n",
    "    wave_form = np.squeeze(wave_form)\n",
    "    output_audio(wave_form)"
   ]
  }
 ],
 "metadata": {
  "kernelspec": {
   "display_name": "coqui",
   "language": "python",
   "name": "python3"
  },
  "language_info": {
   "codemirror_mode": {
    "name": "ipython",
    "version": 3
   },
   "file_extension": ".py",
   "mimetype": "text/x-python",
   "name": "python",
   "nbconvert_exporter": "python",
   "pygments_lexer": "ipython3",
   "version": "3.9.19"
  }
 },
 "nbformat": 4,
 "nbformat_minor": 2
}
